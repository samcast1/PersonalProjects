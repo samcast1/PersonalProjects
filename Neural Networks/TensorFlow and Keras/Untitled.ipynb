{
 "cells": [
  {
   "cell_type": "markdown",
   "id": "3e18ec2f",
   "metadata": {},
   "source": [
    "# Abandoning the tutorial, creating a neural network with titanic data...\n",
    "\n",
    "The Tensorflow tutorial I was using was unfortunately outdated, so I will be figuring it out on my own from here."
   ]
  },
  {
   "cell_type": "code",
   "execution_count": 1,
   "id": "8dbfea7c",
   "metadata": {},
   "outputs": [
    {
     "ename": "NameError",
     "evalue": "name 'dftrain' is not defined",
     "output_type": "error",
     "traceback": [
      "\u001b[1;31m---------------------------------------------------------------------------\u001b[0m",
      "\u001b[1;31mNameError\u001b[0m                                 Traceback (most recent call last)",
      "Cell \u001b[1;32mIn[1], line 15\u001b[0m\n\u001b[0;32m     13\u001b[0m \u001b[38;5;66;03m# Create categorical feature columns\u001b[39;00m\n\u001b[0;32m     14\u001b[0m \u001b[38;5;28;01mfor\u001b[39;00m feature_name \u001b[38;5;129;01min\u001b[39;00m CATEGORICAL_COLUMNS:\n\u001b[1;32m---> 15\u001b[0m     vocabulary \u001b[38;5;241m=\u001b[39m dftrain[feature_name]\u001b[38;5;241m.\u001b[39munique()\n\u001b[0;32m     16\u001b[0m     categorical_column \u001b[38;5;241m=\u001b[39m tf\u001b[38;5;241m.\u001b[39mfeature_column\u001b[38;5;241m.\u001b[39mcategorical_column_with_vocabulary_list(feature_name, vocabulary)\n\u001b[0;32m     17\u001b[0m     feature_columns\u001b[38;5;241m.\u001b[39mappend(tf\u001b[38;5;241m.\u001b[39mfeature_column\u001b[38;5;241m.\u001b[39mindicator_column(categorical_column))\n",
      "\u001b[1;31mNameError\u001b[0m: name 'dftrain' is not defined"
     ]
    }
   ],
   "source": [
    "import tensorflow as tf\n",
    "import pandas as pd\n",
    "\n",
    "# Assuming dftrain and dfeval are your DataFrames for training and evaluation data\n",
    "# dftrain = pd.read_csv('path_to_your_training_csv_file')\n",
    "# dfeval = pd.read_csv('path_to_your_eval_csv_file')\n",
    "\n",
    "CATEGORICAL_COLUMNS = ['sex', 'n_siblings_spouses', 'parch', 'class', 'deck', 'embark_town', 'alone']\n",
    "NUMERIC_COLUMNS = ['age', 'fare']\n",
    "\n",
    "feature_columns = []\n",
    "\n",
    "# Create categorical feature columns\n",
    "for feature_name in CATEGORICAL_COLUMNS:\n",
    "    vocabulary = dftrain[feature_name].unique()\n",
    "    categorical_column = tf.feature_column.categorical_column_with_vocabulary_list(feature_name, vocabulary)\n",
    "    feature_columns.append(tf.feature_column.indicator_column(categorical_column))\n",
    "\n",
    "# Create numeric feature columns\n",
    "for feature_name in NUMERIC_COLUMNS:\n",
    "    feature_columns.append(tf.feature_column.numeric_column(feature_name, dtype=tf.float32))\n",
    "\n",
    "# Create feature layer\n",
    "feature_layer = tf.keras.layers.DenseFeatures(feature_columns)\n",
    "\n",
    "# Define the model\n",
    "model = tf.keras.Sequential([\n",
    "    feature_layer,\n",
    "    tf.keras.layers.Dense(128, activation='relu'),\n",
    "    tf.keras.layers.Dense(64, activation='relu'),\n",
    "    tf.keras.layers.Dense(1, activation='sigmoid')\n",
    "])\n",
    "\n",
    "# Compile the model with additional metrics\n",
    "model.compile(\n",
    "    optimizer='adam',\n",
    "    loss='binary_crossentropy',\n",
    "    metrics=[\n",
    "        'accuracy',\n",
    "        tf.keras.metrics.Precision(name='precision'),\n",
    "        tf.keras.metrics.Recall(name='recall'),\n",
    "        tf.keras.metrics.AUC(name='auc')\n",
    "    ]\n",
    ")\n",
    "\n",
    "# Define input functions\n",
    "def df_to_dataset(data_df, label_df, shuffle=True, batch_size=32):\n",
    "    ds = tf.data.Dataset.from_tensor_slices((dict(data_df), label_df))\n",
    "    if shuffle:\n",
    "        ds = ds.shuffle(buffer_size=len(data_df))\n",
    "    ds = ds.batch(batch_size)\n",
    "    return ds\n",
    "\n",
    "train_dataset = df_to_dataset(dftrain, dftrain['survived'])\n",
    "eval_dataset = df_to_dataset(dfeval, dfeval['survived'], shuffle=False)\n",
    "\n",
    "# # Train the model\n",
    "# model.fit(train_dataset, epochs=10)\n",
    "\n",
    "# # Evaluate the model\n",
    "# loss, accuracy, precision, recall, auc = model.evaluate(eval_dataset)\n",
    "# print(f\"Loss: {loss}, Accuracy: {accuracy}, Precision: {precision}, Recall: {recall}, AUC: {auc}\")\n"
   ]
  },
  {
   "cell_type": "code",
   "execution_count": null,
   "id": "d711c772",
   "metadata": {},
   "outputs": [],
   "source": []
  }
 ],
 "metadata": {
  "kernelspec": {
   "display_name": "Python 3 (ipykernel)",
   "language": "python",
   "name": "python3"
  },
  "language_info": {
   "codemirror_mode": {
    "name": "ipython",
    "version": 3
   },
   "file_extension": ".py",
   "mimetype": "text/x-python",
   "name": "python",
   "nbconvert_exporter": "python",
   "pygments_lexer": "ipython3",
   "version": "3.11.5"
  }
 },
 "nbformat": 4,
 "nbformat_minor": 5
}
