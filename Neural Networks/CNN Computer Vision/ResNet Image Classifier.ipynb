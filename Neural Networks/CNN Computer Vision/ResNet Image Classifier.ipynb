{
 "cells": [
  {
   "cell_type": "code",
   "execution_count": 3,
   "id": "96634c6a",
   "metadata": {},
   "outputs": [
    {
     "name": "stdout",
     "output_type": "stream",
     "text": [
      "\u001b[1m1/1\u001b[0m \u001b[32m━━━━━━━━━━━━━━━━━━━━\u001b[0m\u001b[37m\u001b[0m \u001b[1m5s\u001b[0m 5s/step\n",
      "1: handkerchief (0.28)\n",
      "2: pillow (0.24)\n",
      "3: diaper (0.23)\n",
      "4: brassiere (0.08)\n",
      "5: paper_towel (0.02)\n"
     ]
    }
   ],
   "source": [
    "import numpy as np\n",
    "import os\n",
    "os.environ['TF_CPP_MIN_LOG_LEVEL'] = '2'\n",
    "from keras.preprocessing import image\n",
    "from keras.applications import resnet50\n",
    "\n",
    "# Initialize the ResNet50 model pre-loaded with weights trained on ImageNet\n",
    "model = resnet50.ResNet50(weights='imagenet')\n",
    "\n",
    "# Load an image file, resizing it to 224x224 pixels (size required by ResNet50 model)\n",
    "img = image.load_img(r\"C:\\Users\\casti\\OneDrive\\Pictures\\Camera Roll\\WIN_20240524_18_18_03_Pro_LI.jpg\", target_size=(224, 224))\n",
    "\n",
    "# Convert the image to a numpy array which is the format Keras requires\n",
    "x = image.img_to_array(img)\n",
    "\n",
    "# Add a fourth dimension (for batch size), which Keras expects. Here, we're\n",
    "# adding a batch dimension of 1 since we are predicting for one image.\n",
    "x = np.expand_dims(x, axis=0)\n",
    "\n",
    "\n",
    "# Preprocess the input by subtracting the mean RGB channels of the ImageNet dataset.\n",
    "# This mean is subtracted because the model was originally trained with this preprocessing.\n",
    "x = resnet50.preprocess_input(x)\n",
    "\n",
    "\n",
    "# Run the image through the neural network to make a prediction.\n",
    "# This outputs the probabilities for all ImageNet classes.\n",
    "predictions = model.predict(x)\n",
    "\n",
    "# Decode the prediction into human-readable class names with their probabilities.\n",
    "# 'top=5' gives us the top 5 predictions that the model has made for the image.\n",
    "predicted_classes = resnet50.decode_predictions(predictions, top=5)[0]\n",
    "\n",
    "# Print out the predictions.\n",
    "for i, (imagenet_id, name, score) in enumerate(predicted_classes):\n",
    "      print(f\"{i + 1}: {name} ({score:.2f})\")\n",
    "\n"
   ]
  },
  {
   "cell_type": "code",
   "execution_count": null,
   "id": "144f9125",
   "metadata": {},
   "outputs": [],
   "source": []
  }
 ],
 "metadata": {
  "kernelspec": {
   "display_name": "Python 3 (ipykernel)",
   "language": "python",
   "name": "python3"
  },
  "language_info": {
   "codemirror_mode": {
    "name": "ipython",
    "version": 3
   },
   "file_extension": ".py",
   "mimetype": "text/x-python",
   "name": "python",
   "nbconvert_exporter": "python",
   "pygments_lexer": "ipython3",
   "version": "3.11.5"
  }
 },
 "nbformat": 4,
 "nbformat_minor": 5
}
