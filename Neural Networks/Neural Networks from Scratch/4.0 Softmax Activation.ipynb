{
 "cells": [
  {
   "cell_type": "markdown",
   "id": "f8fd8a42",
   "metadata": {},
   "source": [
    "#### Why another activation function? Rectified linear worked pretty well.\n",
    "\n",
    "Consider the following:\n",
    "\n",
    "layer_outputs = [4.8, 1.21, 2.385] \n",
    "\n",
    "In this case, index 0 would be the largest value and thus the model's prediction.\n",
    "\n",
    "But, how wrong is the model? We need a model that can illustrate relative comparisons between outputs \n",
    "beyond simple accuracy. For instance, if instead we had:\n",
    "\n",
    "layer outputs = [4.8, 4.79, 4.25]\n",
    "\n",
    "We wouldn't know *how* correct the model would be in identifying index 0 as the class prediction. \n",
    "\n",
    "Moreover, these output values are unbounded, so relative closeness can vary considerably depending on inputs from previous layers. \n",
    "\n",
    "A formal, uniform determination of output values requires a new activation function: Softmax.\n",
    "\n",
    "#### Ideally, output layer values will be probability distributions between 0 and 1.\n",
    "\n",
    "Could I just normalize values between 0 and 1 and use relative proportions? Not if I have negative values! ReLU will clip them to zero. Could I use a linear activation function? Maybe squared values or absolutes? These are not final values - I need to use these values to train the model. So, I can't just mess around with outputs to get something that approximates a probability distribution. I need values between 0 and 1 that actually represent differences between outputs.\n",
    "\n",
    "#### Enter: Exponential Function.\n",
    "\n",
    "y = e^x\n",
    "\n",
    "e ~= 2.718281... (euler's number)\n",
    "\n",
    "This ensures no output value can be negative no matter the x, while also preserving the scale of outputs to allow for adequate comparisons. "
   ]
  },
  {
   "cell_type": "code",
   "execution_count": 5,
   "id": "436f54f6",
   "metadata": {
    "scrolled": true
   },
   "outputs": [
    {
     "data": {
      "image/png": "[encoded data removed]",
      "text/plain": [
       "<Figure size 800x600 with 1 Axes>"
      ]
     },
     "metadata": {},
     "output_type": "display_data"
    }
   ],
   "source": [
    "import matplotlib.pyplot as plt\n",
    "import numpy as np\n",
    "\n",
    "# Define the exponential function\n",
    "def exponential(x):\n",
    "    return np.exp(x)\n",
    "\n",
    "# Generate x values\n",
    "x = np.linspace(-10, 10, 400)\n",
    "y = exponential(x)\n",
    "\n",
    "# Create the plot\n",
    "plt.figure(figsize=(8, 6))\n",
    "plt.plot(x, y, label='y = e^x', color='purple')\n",
    "plt.axhline(0, color='black', linewidth=0.5)\n",
    "plt.axvline(0, color='black', linewidth=0.5)\n",
    "plt.grid(True, which='both')\n",
    "\n",
    "# Set the x and y axis limits\n",
    "plt.xlim([-10, 10])\n",
    "plt.ylim([0, np.exp(2) + 1])\n",
    "\n",
    "# Label the plot\n",
    "plt.title('Exponential Function')\n",
    "plt.xlabel('x')\n",
    "plt.ylabel('y')\n",
    "plt.legend()\n",
    "\n",
    "# Show the plot\n",
    "plt.show()\n"
   ]
  },
  {
   "cell_type": "markdown",
   "id": "ff93129c",
   "metadata": {},
   "source": [
    "#### Coding exponentiation in the activation function."
   ]
  },
  {
   "cell_type": "code",
   "execution_count": 11,
   "id": "91f97718",
   "metadata": {},
   "outputs": [
    {
     "name": "stdout",
     "output_type": "stream",
     "text": [
      "Exponentiated values:  [121.51041751873483, 3.353484652549023, 10.859062664920513]\n"
     ]
    }
   ],
   "source": [
    "import math\n",
    "\n",
    "layer_outputs = [4.8, 1.21, 2.385] \n",
    "\n",
    "E = math.e\n",
    "\n",
    "exp_values = [E**x for x in layer_outputs]\n",
    "\n",
    "print(\"Exponentiated values: \", exp_values)"
   ]
  },
  {
   "cell_type": "markdown",
   "id": "b314dc6c",
   "metadata": {},
   "source": [
    "#### Exponentiation fixes the negative issue while maintaining scale. But now I need to normalize values to get them between 0 and 1.\n",
    "\n",
    "y = single neuron output value / sum of all neuron outputs in that layer\n",
    "\n",
    "This gives a probability distribution that we want. Remember to exponentiate first!"
   ]
  },
  {
   "cell_type": "code",
   "execution_count": 13,
   "id": "71a0f048",
   "metadata": {},
   "outputs": [
    {
     "name": "stdout",
     "output_type": "stream",
     "text": [
      "Normalized values:  [0.8952826639572619, 0.024708306782099374, 0.0800090292606387]\n",
      "\n",
      "Sum of norm vals:  0.9999999999999999\n"
     ]
    }
   ],
   "source": [
    "import math\n",
    "\n",
    "layer_outputs = [4.8, 1.21, 2.385] \n",
    "\n",
    "E = math.e\n",
    "\n",
    "exp_values = [E**x for x in layer_outputs]\n",
    "\n",
    "norm_base = sum(exp_values)\n",
    "norm_values = [val/norm_base for val in exp_values]\n",
    "\n",
    "print(\"Normalized values: \", norm_values)\n",
    "print()\n",
    "print(\"Sum of norm vals: \", sum(norm_values))"
   ]
  },
  {
   "cell_type": "markdown",
   "id": "2b164961",
   "metadata": {},
   "source": [
    "#### Next, convert all this to numpy."
   ]
  },
  {
   "cell_type": "code",
   "execution_count": 17,
   "id": "4026f2fa",
   "metadata": {},
   "outputs": [
    {
     "name": "stdout",
     "output_type": "stream",
     "text": [
      "Normalized values:  [0.89528266 0.02470831 0.08000903]\n",
      "\n",
      "Sum of norm vals:  0.9999999999999999\n"
     ]
    }
   ],
   "source": [
    "import numpy as np\n",
    "import nnfs\n",
    "\n",
    "nnfs.init()\n",
    "\n",
    "layer_outputs = [4.8, 1.21, 2.385] \n",
    "\n",
    "exp_values = np.exp(layer_outputs) # vectorized operation avoids the for loop and increases performance\n",
    "\n",
    "norm_values= exp_values / np.sum(exp_values)\n",
    "\n",
    "print(\"Normalized values: \", norm_values)\n",
    "print()\n",
    "print(\"Sum of norm vals: \", sum(norm_values))"
   ]
  },
  {
   "cell_type": "markdown",
   "id": "b17198db",
   "metadata": {},
   "source": [
    "#### Softmax Activation = input -> exponentiation -> normalization\n",
    "\n",
    "The softmax activation function is defined as:\n",
    "\n",
    "$$\n",
    "S_i,j = \\frac{e^{z_i,j}}{\\sum_{l=1}^{L} e^{z_i,j}}\n",
    "$$\n",
    "\n",
    "where:\n",
    "- \\( z \\) is the input vector.\n",
    "- \\( L \\) is the number of classes.\n",
    "- \\( S_i,j \\) is the output of the softmax function for the \\(i\\)-th class."
   ]
  },
  {
   "cell_type": "markdown",
   "id": "b6af7235",
   "metadata": {},
   "source": [
    "#### Unlike the example, we won't have a single set of outputs, but we'll have a batch out outputs."
   ]
  },
  {
   "cell_type": "code",
   "execution_count": 25,
   "id": "4a5f86ad",
   "metadata": {},
   "outputs": [
    {
     "name": "stdout",
     "output_type": "stream",
     "text": [
      "Sum of layer outputs with Axis = none:  18.792\n",
      "Sum of layer outputs with Axis = 0:  [15.11   0.451  3.231]\n",
      "Sum of layer outputs with Axis = 1:  [8.395 7.91  2.487]\n",
      "\n",
      "Sum of layer outputs with Axis = 1 and dimensions retained: \n",
      "[[8.395]\n",
      " [7.91 ]\n",
      " [2.487]]\n",
      "\n",
      "Normalized Values as exp_val / sum(exp_val) with Axis 1 and dimensions retained:\n",
      "[[8.95282664e-01 2.47083068e-02 8.00090293e-02]\n",
      " [9.99668119e-01 2.23132042e-05 3.09568261e-04]\n",
      " [5.13097164e-01 3.58333899e-01 1.28568936e-01]]\n"
     ]
    }
   ],
   "source": [
    "import numpy as np\n",
    "import nnfs\n",
    "\n",
    "nnfs.init()\n",
    "\n",
    "layer_outputs = [[4.8, 1.21, 2.385], \n",
    "                 [8.9, -1.81, 0.82],\n",
    "                 [1.41, 1.051, 0.026]]\n",
    "\n",
    "exp_values = np.exp(layer_outputs) # work element wise, so this works on batches...\n",
    "\n",
    "# however, np.sum will return a single scalar value for all three vectors. But I need three sums - one for each batch.\n",
    "\n",
    "# this is done by passing the axis parameter\n",
    "\n",
    "print(\"Sum of layer outputs with Axis = none: \", np.sum(layer_outputs, axis=None))\n",
    "print(\"Sum of layer outputs with Axis = 0: \", np.sum(layer_outputs, axis = 0)) # sum of values column wise\n",
    "print(\"Sum of layer outputs with Axis = 1: \", np.sum(layer_outputs, axis = 1)) # sum of values row wise\n",
    "print()\n",
    "\n",
    "print(\"Sum of layer outputs with Axis = 1 and dimensions retained: \") # prevents need for transposition\n",
    "print(np.sum(layer_outputs, axis = 1, keepdims=True))\n",
    "print()\n",
    "\n",
    "\n",
    "norm_values = exp_values / np.sum(exp_values, axis = 1, keepdims = True)\n",
    "print(\"Normalized Values as exp_val / sum(exp_val) with Axis 1 and dimensions retained:\")\n",
    "print(norm_values)\n",
    "# I need row wise values\n",
    "\n",
    "\n",
    "# print(\"Normalized values: \", norm_values)\n",
    "# print()\n",
    "# print(\"Sum of norm vals: \", sum(norm_values))"
   ]
  },
  {
   "cell_type": "markdown",
   "id": "c6f8ad33",
   "metadata": {},
   "source": [
    "#### A slight issue with exponentiation...\n",
    "\n",
    "Outputs grow really quickly as function passes higher values. To deal with this, we can subtract largest value in layer from every value in the layer, essentially reducing the whole layer to max of 0. \n",
    "\n",
    "v = u - max(u)\n",
    "\n",
    "u = [1 2 3], max u = 3\n",
    "\n",
    "v = [1 2 3] - 3 = [-2 -1 0]\n",
    "\n",
    "Now, range of possible outputs after exponentiation lies between 0 and 1 because e^0 = 1.\n",
    "\n",
    "What sort of impact will this approach have to the output of the softmax activation?\n",
    "The output is actually the same - we've just protected ourselves from an overflow error by passing values greater than 0 to the exponential function.\n",
    "\n",
    "With that in mind, here's the full framework up to this point..."
   ]
  },
  {
   "cell_type": "code",
   "execution_count": 31,
   "id": "24f9b41f",
   "metadata": {},
   "outputs": [
    {
     "name": "stdout",
     "output_type": "stream",
     "text": [
      "Output probabilities:  \n",
      " [[0.33333334 0.33333334 0.33333334]\n",
      " [0.33331734 0.3333183  0.33336434]\n",
      " [0.3332888  0.33329153 0.33341965]\n",
      " [0.33325943 0.33326396 0.33347666]\n",
      " [0.33323312 0.33323926 0.33352762]]\n"
     ]
    }
   ],
   "source": [
    "import numpy as np\n",
    "import nnfs\n",
    "from nnfs.datasets import spiral_data\n",
    "\n",
    "nnfs.init()\n",
    "\n",
    "class Layer_Dense:\n",
    "    def __init__(self, n_inputs, n_neurons):      \n",
    "        self.weights = 0.10 * np.random.randn(n_inputs, n_neurons)\n",
    "        self.biases = np.zeros((1, n_neurons)) \n",
    "    def forward(self, inputs):\n",
    "        self.output = np.dot(inputs, self.weights) + self.biases\n",
    "        \n",
    "class Activation_ReLU:\n",
    "    def forward(self, inputs):\n",
    "        self.output = np.maximum(0,inputs)\n",
    "        \n",
    "class Activation_Softmax:\n",
    "    def forward(self, inputs):\n",
    "        exp_values = np.exp(inputs - np.max(inputs, axis=1, keepdims=True))\n",
    "        probabilities = exp_values / np.sum(exp_values, axis=1, keepdims=True)\n",
    "        self.output = probabilities\n",
    "        \n",
    "        \n",
    "X,y = spiral_data(samples=100, classes=3) # initialize random spiral data with 3 classes and two input features over 100 batches\n",
    "\n",
    "dense1 = Layer_Dense(2,3) # create first layer, receiving 2 inputs and passing to 3 output neurons\n",
    "activation1 = Activation_ReLU() # initialize ReLU\n",
    "\n",
    "dense2 = Layer_Dense(3,3) # create output layer, receiving 3 inputs from layer 1 and passing to 3 classes as defined in X,y above\n",
    "activation2 = Activation_Softmax() # initialize output layer activation, Softmax\n",
    "\n",
    "dense1.forward(X) # pass training data into first layer\n",
    "activation1.forward(dense1.output) # apply ReLU to clip values below zero\n",
    "\n",
    "dense2.forward(activation1.output) # pass clipped values from layer 1 to final layer\n",
    "activation2.forward(dense2.output) # apply Softmax to treat negatives and normalize range to 0,1 to produce probabilities\n",
    "\n",
    "print(\"Output probabilities: \", \"\\n\",activation2.output[:5]) # returns first 5/100 sets of 3 probabilities each, representing one prob for each class\n"
   ]
  },
  {
   "cell_type": "markdown",
   "id": "35bd5b95",
   "metadata": {},
   "source": [
    "#### Class distribution is almost equal because initialized weights were random.\n",
    "#### The next step is to train this model by implementing a loss function."
   ]
  },
  {
   "cell_type": "code",
   "execution_count": null,
   "id": "f2702dec",
   "metadata": {},
   "outputs": [],
   "source": []
  }
 ],
 "metadata": {
  "kernelspec": {
   "display_name": "Python 3 (ipykernel)",
   "language": "python",
   "name": "python3"
  },
  "language_info": {
   "codemirror_mode": {
    "name": "ipython",
    "version": 3
   },
   "file_extension": ".py",
   "mimetype": "text/x-python",
   "name": "python",
   "nbconvert_exporter": "python",
   "pygments_lexer": "ipython3",
   "version": "3.11.5"
  }
 },
 "nbformat": 4,
 "nbformat_minor": 5
}
