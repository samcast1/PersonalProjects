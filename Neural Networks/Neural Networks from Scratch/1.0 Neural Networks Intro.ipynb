{
 "cells": [
  {
   "cell_type": "markdown",
   "id": "88a417c0",
   "metadata": {},
   "source": [
    "#### One neuron with three inputs."
   ]
  },
  {
   "cell_type": "code",
   "execution_count": 9,
   "id": "7e19559c",
   "metadata": {},
   "outputs": [
    {
     "name": "stdout",
     "output_type": "stream",
     "text": [
      "2.3\n"
     ]
    }
   ],
   "source": [
    "inputs = [1,2,3]\n",
    "weights =[0.2, 0.8, -0.5]\n",
    "bias = 2\n",
    "\n",
    "output = inputs[0]*weights[0] + inputs[1]*weights[1]+inputs[2]*weights[2] + bias\n",
    "print(output)"
   ]
  },
  {
   "cell_type": "markdown",
   "id": "f0f2d088",
   "metadata": {},
   "source": [
    "#### One Neuron with four inputs."
   ]
  },
  {
   "cell_type": "code",
   "execution_count": 10,
   "id": "3ebca407",
   "metadata": {},
   "outputs": [
    {
     "name": "stdout",
     "output_type": "stream",
     "text": [
      "4.8\n"
     ]
    }
   ],
   "source": [
    "inputs = [1,2,3,2.5]\n",
    "weights =[0.2, 0.8, -0.5, 1.0]\n",
    "bias = 2\n",
    "\n",
    "output = inputs[0]*weights[0] + inputs[1]*weights[1]+inputs[2]*weights[2] + inputs[3]*weights[3] + bias\n",
    "print(output)"
   ]
  },
  {
   "cell_type": "markdown",
   "id": "8fa612e3",
   "metadata": {},
   "source": [
    "#### Three neurons with four inputs each."
   ]
  },
  {
   "cell_type": "code",
   "execution_count": 11,
   "id": "4bfa917f",
   "metadata": {
    "scrolled": true
   },
   "outputs": [
    {
     "name": "stdout",
     "output_type": "stream",
     "text": [
      "[4.8, 1.21, 2.385]\n"
     ]
    }
   ],
   "source": [
    "inputs = [1,2,3,2.5]\n",
    "\n",
    "weights1 =[0.2, 0.8, -0.5, 1.0]\n",
    "weights2 =[0.5, -0.91, 0.26, -0.5]\n",
    "weights3 =[-0.26, -0.27, 0.17, 0.87]\n",
    "bias1 = 2\n",
    "bias2 = 3\n",
    "bias3 = 0.5\n",
    "\n",
    "output = [inputs[0]*weights1[0] + inputs[1]*weights1[1]+inputs[2]*weights1[2] + inputs[3]*weights1[3] + bias1,\n",
    "         inputs[0]*weights2[0] + inputs[1]*weights2[1]+inputs[2]*weights2[2] + inputs[3]*weights2[3] + bias2,\n",
    "         inputs[0]*weights3[0] + inputs[1]*weights3[1]+inputs[2]*weights3[2] + inputs[3]*weights3[3] + bias3]\n",
    "print(output)"
   ]
  },
  {
   "cell_type": "markdown",
   "id": "867f7a0e",
   "metadata": {},
   "source": [
    "#### Making it a bit more efficient."
   ]
  },
  {
   "cell_type": "code",
   "execution_count": 12,
   "id": "247492d3",
   "metadata": {
    "scrolled": true
   },
   "outputs": [
    {
     "name": "stdout",
     "output_type": "stream",
     "text": [
      "[4.8, 1.21, 2.385]\n"
     ]
    }
   ],
   "source": [
    "inputs = [1,2,3,2.5]\n",
    "\n",
    "weights = [[0.2, 0.8, -0.5, 1.0],[0.5, -0.91, 0.26, -0.5],[-0.26, -0.27, 0.17, 0.87]]\n",
    "\n",
    "biases= [2,3,0.5]\n",
    "\n",
    "\n",
    "layer_outputs = [] # output of current layer\n",
    "for neuron_weights, neuron_bias in zip(weights, biases):\n",
    "    neuron_output = 0 # output of given neuron\n",
    "    for n_input, weight in zip(inputs, neuron_weights):\n",
    "        neuron_output += n_input*weight\n",
    "    neuron_output += neuron_bias\n",
    "    layer_outputs.append(neuron_output)\n",
    "    \n",
    "print(layer_outputs)"
   ]
  },
  {
   "cell_type": "markdown",
   "id": "52dab21d",
   "metadata": {},
   "source": [
    "#### Get into numpy, vectors, matrices, etc."
   ]
  },
  {
   "cell_type": "markdown",
   "id": "ef312f82",
   "metadata": {},
   "source": [
    "#### Understanding shape :\n",
    "\n",
    "At each dimension, shape describes the size of that dimension. \n",
    "\n",
    "The shape of a typical python list, AKA 1D array [1,2,3,4]  with 4 elements is (4,). This is a basic mathematical vector.\n",
    "What about a 2D array? It looks more like a list of lists (lol). \n",
    "\n",
    "    2D array: [[1,2,3,4],\n",
    "                [5,6,7,8]]\n",
    "\n",
    "The shape of the above is (2,4) because there are two dimensions and 4 elements at each dimension. If the second dimension didn't have 4 elements as well, array would not be homologous and therefore shape would be indeterminant. \n",
    "\n",
    "Conveniently, this is not only a 2D array - it is also a mathematical matrix! (makes sense because it's a combination of vectors.)\n",
    "\n",
    "Now how about a list of lists of lists, AKA lolol? \n",
    "\n",
    "    3D array: [[[1,2,3,4],\n",
    "                [5,6,7,8]]\n",
    "                [[4,3,2,1],\n",
    "                [8,7,6,5]],\n",
    "                [[1,1,1,1],\n",
    "                [2,2,2,2]]]\n",
    "\n",
    "This array has three dimensions with shape (3, 2, 4). It has three dimensions, 2 elements in each dimension, and 4 elements in each of those elements.\n",
    "\n",
    "Note: A *Tensor* is an object that can be represented as an array.                 "
   ]
  },
  {
   "cell_type": "markdown",
   "id": "f87faf93",
   "metadata": {},
   "source": [
    "#### A bit on the Dot Product:\n",
    "\n",
    "a = [1,2,3]\n",
    "b = [2,3,4]\n",
    "\n",
    "dot_product = a[0] * b[0] + a[1] * b[1] + a[2] * b[2]\n",
    "\n",
    "vector_a dot vector_b = 1 * 2 + 2 * 3 + 3 * 4 = 2 + 6 + 12 = 20"
   ]
  },
  {
   "cell_type": "markdown",
   "id": "130ca178",
   "metadata": {},
   "source": [
    "#### Using the dot product for four inputs with one neuron."
   ]
  },
  {
   "cell_type": "code",
   "execution_count": 16,
   "id": "56b320ca",
   "metadata": {
    "scrolled": true
   },
   "outputs": [
    {
     "name": "stdout",
     "output_type": "stream",
     "text": [
      "4.8\n"
     ]
    }
   ],
   "source": [
    "import numpy as np\n",
    "\n",
    "inputs = [1,2,3,2.5]\n",
    "\n",
    "weights = [0.2, 0.8, -0.5, 1.0]\n",
    "\n",
    "bias= 2 \n",
    "\n",
    "output = np.dot(weights, inputs) + bias # ensure weights is first\n",
    "\n",
    "# dot product multiplies each vector element wise at the same index\n",
    "\n",
    "print(output)"
   ]
  },
  {
   "cell_type": "markdown",
   "id": "19efdd91",
   "metadata": {},
   "source": [
    "#### Using dot product with a layer of neurons - 4 inputs and 3 neurons."
   ]
  },
  {
   "cell_type": "code",
   "execution_count": 21,
   "id": "e412df5b",
   "metadata": {},
   "outputs": [
    {
     "name": "stdout",
     "output_type": "stream",
     "text": [
      "[4.8   1.21  2.385]\n"
     ]
    }
   ],
   "source": [
    "inputs = [1,2,3,2.5] # a vector\n",
    "\n",
    "weights = [[0.2, 0.8, -0.5, 1.0],\n",
    "           [0.5, -0.91, 0.26, -0.5],\n",
    "           [-0.26, -0.27, 0.17, 0.87]] # a matrix of vectors\n",
    "\n",
    "biases= [2,3,0.5] # a vector\n",
    "\n",
    "output = np.dot(weights, inputs) + biases # passing weights as first ouput ensures that dot product is indexed by weights to determine total number of neurons\n",
    "\n",
    "# bad_output = np.dot(inputs, weights) + biases - yields a value error due to shape\n",
    "\n",
    "print(output)"
   ]
  },
  {
   "cell_type": "markdown",
   "id": "b7ffe16b",
   "metadata": {},
   "source": [
    "#### Input as Batch:\n",
    "\n",
    "Up to this point, inputs have been 1D arrays of a few neuron activations. But, typical form is to perform calculations on batches of inputs, i.e. 2D array of several vectors.\n"
   ]
  },
  {
   "cell_type": "code",
   "execution_count": null,
   "id": "ae51bbbf",
   "metadata": {},
   "outputs": [],
   "source": []
  }
 ],
 "metadata": {
  "kernelspec": {
   "display_name": "Python 3 (ipykernel)",
   "language": "python",
   "name": "python3"
  },
  "language_info": {
   "codemirror_mode": {
    "name": "ipython",
    "version": 3
   },
   "file_extension": ".py",
   "mimetype": "text/x-python",
   "name": "python",
   "nbconvert_exporter": "python",
   "pygments_lexer": "ipython3",
   "version": "3.11.5"
  }
 },
 "nbformat": 4,
 "nbformat_minor": 5
}
